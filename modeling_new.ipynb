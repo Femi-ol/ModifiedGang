{
 "cells": [
  {
   "cell_type": "code",
   "execution_count": 1,
   "metadata": {},
   "outputs": [
    {
     "name": "stdout",
     "output_type": "stream",
     "text": [
      "Requirement already satisfied: pandas in /Library/Frameworks/Python.framework/Versions/3.13/lib/python3.13/site-packages (2.2.3)\n",
      "Requirement already satisfied: scikit-learn in /Library/Frameworks/Python.framework/Versions/3.13/lib/python3.13/site-packages (1.6.1)\n",
      "Requirement already satisfied: keras in /Library/Frameworks/Python.framework/Versions/3.13/lib/python3.13/site-packages (3.9.2)\n",
      "Requirement already satisfied: numpy in /Library/Frameworks/Python.framework/Versions/3.13/lib/python3.13/site-packages (2.2.4)\n",
      "Requirement already satisfied: python-dateutil>=2.8.2 in /Library/Frameworks/Python.framework/Versions/3.13/lib/python3.13/site-packages (from pandas) (2.9.0.post0)\n",
      "Requirement already satisfied: pytz>=2020.1 in /Library/Frameworks/Python.framework/Versions/3.13/lib/python3.13/site-packages (from pandas) (2025.1)\n",
      "Requirement already satisfied: tzdata>=2022.7 in /Library/Frameworks/Python.framework/Versions/3.13/lib/python3.13/site-packages (from pandas) (2025.1)\n",
      "Requirement already satisfied: scipy>=1.6.0 in /Library/Frameworks/Python.framework/Versions/3.13/lib/python3.13/site-packages (from scikit-learn) (1.15.2)\n",
      "Requirement already satisfied: joblib>=1.2.0 in /Library/Frameworks/Python.framework/Versions/3.13/lib/python3.13/site-packages (from scikit-learn) (1.4.2)\n",
      "Requirement already satisfied: threadpoolctl>=3.1.0 in /Library/Frameworks/Python.framework/Versions/3.13/lib/python3.13/site-packages (from scikit-learn) (3.6.0)\n",
      "Requirement already satisfied: absl-py in /Library/Frameworks/Python.framework/Versions/3.13/lib/python3.13/site-packages (from keras) (2.2.2)\n",
      "Requirement already satisfied: rich in /Library/Frameworks/Python.framework/Versions/3.13/lib/python3.13/site-packages (from keras) (14.0.0)\n",
      "Requirement already satisfied: namex in /Library/Frameworks/Python.framework/Versions/3.13/lib/python3.13/site-packages (from keras) (0.0.8)\n",
      "Requirement already satisfied: h5py in /Library/Frameworks/Python.framework/Versions/3.13/lib/python3.13/site-packages (from keras) (3.13.0)\n",
      "Requirement already satisfied: optree in /Library/Frameworks/Python.framework/Versions/3.13/lib/python3.13/site-packages (from keras) (0.15.0)\n",
      "Requirement already satisfied: ml-dtypes in /Library/Frameworks/Python.framework/Versions/3.13/lib/python3.13/site-packages (from keras) (0.5.1)\n",
      "Requirement already satisfied: packaging in /Library/Frameworks/Python.framework/Versions/3.13/lib/python3.13/site-packages (from keras) (24.2)\n",
      "Requirement already satisfied: six>=1.5 in /Library/Frameworks/Python.framework/Versions/3.13/lib/python3.13/site-packages (from python-dateutil>=2.8.2->pandas) (1.17.0)\n",
      "Requirement already satisfied: typing-extensions>=4.5.0 in /Library/Frameworks/Python.framework/Versions/3.13/lib/python3.13/site-packages (from optree->keras) (4.12.2)\n",
      "Requirement already satisfied: markdown-it-py>=2.2.0 in /Library/Frameworks/Python.framework/Versions/3.13/lib/python3.13/site-packages (from rich->keras) (3.0.0)\n",
      "Requirement already satisfied: pygments<3.0.0,>=2.13.0 in /Library/Frameworks/Python.framework/Versions/3.13/lib/python3.13/site-packages (from rich->keras) (2.19.1)\n",
      "Requirement already satisfied: mdurl~=0.1 in /Library/Frameworks/Python.framework/Versions/3.13/lib/python3.13/site-packages (from markdown-it-py>=2.2.0->rich->keras) (0.1.2)\n"
     ]
    }
   ],
   "source": [
    "!pip install pandas scikit-learn keras numpy"
   ]
  },
  {
   "cell_type": "code",
   "execution_count": 2,
   "metadata": {},
   "outputs": [],
   "source": [
    "import re\n",
    "import ast\n",
    "import pandas as pd\n",
    "import numpy as np\n",
    "import matplotlib.pyplot as plt\n",
    "\n",
    "from typing import List\n",
    "from collections import deque\n",
    "from sklearn.model_selection import train_test_split\n",
    "from sklearn.preprocessing import StandardScaler\n",
    "from sklearn.linear_model import LinearRegression, Ridge, Lasso, ElasticNet\n",
    "from sklearn.svm import SVR\n",
    "from sklearn.tree import DecisionTreeRegressor\n",
    "from sklearn.ensemble import RandomForestRegressor, GradientBoostingRegressor\n",
    "# If using MSE or RMSE\n",
    "from sklearn.metrics import mean_squared_error"
   ]
  },
  {
   "cell_type": "code",
   "execution_count": 3,
   "metadata": {},
   "outputs": [],
   "source": [
    "# ============================\n",
    "# 1) Reading and Parsing Data\n",
    "# ============================\n",
    "file_path = 'GenData.txt'\n",
    "\n",
    "with open(file_path, 'r') as file:\n",
    "    content = file.read()\n",
    "\n",
    "burst_times_lists = []\n",
    "gangs_lists = []\n",
    "processes_lists = []\n",
    "\n",
    "# Extract processes arrays\n",
    "for idx, chunk in enumerate(content.split('processes =')):\n",
    "    if idx:\n",
    "        parsed_str = chunk.split(']\\n')[0].strip()\n",
    "        processes_lists.append(ast.literal_eval(f\"{parsed_str}]\"))\n",
    "\n",
    "# Extract gangs arrays\n",
    "for idx, chunk in enumerate(content.split('gangs =')):\n",
    "    if idx:\n",
    "        parsed_str = chunk.split('\\n]')[0].strip()\n",
    "        gangs_lists.append(ast.literal_eval(f\"{parsed_str}]\"))\n",
    "\n",
    "# Extract burst_times arrays\n",
    "for idx, chunk in enumerate(content.split('burst_times =')):\n",
    "    if idx:\n",
    "        parsed_str = chunk.split('\\n]')[0].strip()\n",
    "        burst_times_lists.append(ast.literal_eval(f\"{parsed_str}]\"))\n",
    "\n",
    "# For demonstration, let's assume we only care about the FIRST sets \n",
    "# (if your file has multiple sets, pick the one you want)\n",
    "processes = processes_lists[0] if processes_lists else []\n",
    "gangs = gangs_lists[0] if gangs_lists else []\n",
    "burst_times_all = burst_times_lists[0] if burst_times_lists else []"
   ]
  },
  {
   "cell_type": "code",
   "execution_count": 4,
   "metadata": {},
   "outputs": [
    {
     "name": "stdout",
     "output_type": "stream",
     "text": [
      "Built DataFrame (CPU_BURST vs IO_BURST) head:\n",
      "   CPU_BURST  IO_BURST\n",
      "0         40        18\n",
      "1         26         5\n",
      "2         45         4\n",
      "3         35        14\n",
      "4          7        41\n"
     ]
    }
   ],
   "source": [
    "# ============================\n",
    "# 2) Build a DataFrame of CPU vs. IO\n",
    "# ============================\n",
    "CPU_BURST = []\n",
    "IO_BURST = []\n",
    "\n",
    "def split_list_every_other(lst: List[int]):\n",
    "    even_index_elements = lst[::2]  # CPU bursts at even indices\n",
    "    odd_index_elements = lst[1::2]  # IO bursts at odd indices\n",
    "    return even_index_elements, odd_index_elements\n",
    "\n",
    "for burst_pattern in burst_times_all:\n",
    "    # e.g. burst_pattern might be [5,2,6,8,7] ...\n",
    "    if len(burst_pattern) % 2 != 0:\n",
    "        # if there's an odd number of bursts, drop the last for CPU/IO alignment\n",
    "        temp_cpu, temp_io = split_list_every_other(burst_pattern[:-1])\n",
    "    else:\n",
    "        temp_cpu, temp_io = split_list_every_other(burst_pattern)\n",
    "\n",
    "    CPU_BURST.extend(temp_cpu)\n",
    "    IO_BURST.extend(temp_io)\n",
    "\n",
    "df = pd.DataFrame({\n",
    "    'CPU_BURST': CPU_BURST,\n",
    "    'IO_BURST': IO_BURST\n",
    "})\n",
    "\n",
    "print(\"Built DataFrame (CPU_BURST vs IO_BURST) head:\")\n",
    "print(df.head())\n"
   ]
  },
  {
   "cell_type": "markdown",
   "metadata": {},
   "source": [
    "# Window Training"
   ]
  },
  {
   "cell_type": "code",
   "execution_count": 5,
   "metadata": {},
   "outputs": [
    {
     "name": "stdout",
     "output_type": "stream",
     "text": [
      "[Sliding Window] RandomForest RMSE: 17.33\n",
      "Predicted next IO (sliding-window approach) = 14.71\n"
     ]
    }
   ],
   "source": [
    "\n",
    "# ============================\n",
    "# 3) Sliding Window Approach\n",
    "#    - Build 30-row features => predict next IO\n",
    "# ============================\n",
    "window_size = 30\n",
    "window_features = []\n",
    "window_targets = []\n",
    "\n",
    "# For each i, take df.iloc[i : i+window_size+1], flatten, remove last\n",
    "for i in range(len(df) - window_size):\n",
    "    # e.g. shape: (31 rows, 2 columns) => flatten => 62 elements\n",
    "    chunk = df.iloc[i : i + window_size + 1].values.flatten()\n",
    "    # If your original code did .flatten()[:-1], replicate that\n",
    "    # We'll do it here:\n",
    "    feature = chunk[:-1]  # remove last element if that was your logic\n",
    "    # The target: the 'IO_BURST' of the row i+window_size\n",
    "    # i+window_size = the last row in that chunk\n",
    "    next_io = df.iloc[i + window_size]['IO_BURST']\n",
    "    \n",
    "    window_features.append(feature)\n",
    "    window_targets.append(next_io)\n",
    "\n",
    "X_window = window_features\n",
    "y_window = window_targets\n",
    "\n",
    "# Let's do a train/test split\n",
    "Xw_train, Xw_test, yw_train, yw_test = train_test_split(\n",
    "    X_window, y_window, test_size=0.2, random_state=42\n",
    ")\n",
    "\n",
    "model_window = RandomForestRegressor(n_estimators=100, random_state=42)\n",
    "model_window.fit(Xw_train, yw_train)\n",
    "\n",
    "# y_pred_window = model_window.predict(Xw_test)\n",
    "# rmse_window = mean_squared_error(yw_test, y_pred_window, squared=False)\n",
    "# print(f\"[Sliding Window] RandomForest RMSE: {rmse_window:.2f}\")\n",
    "\n",
    "import numpy as np\n",
    "from sklearn.metrics import mean_squared_error\n",
    "\n",
    "y_pred_window = model_window.predict(Xw_test)\n",
    "\n",
    "mse_window = mean_squared_error(yw_test, y_pred_window)  \n",
    "rmse_window = np.sqrt(mse_window)  # manually compute the root\n",
    "print(f\"[Sliding Window] RandomForest RMSE: {rmse_window:.2f}\")\n",
    "\n",
    "\n",
    "# Example: Predict next IO for the LAST 31 rows\n",
    "if len(df) >= 31:\n",
    "    new_chunk = df.iloc[-31:].values.flatten()\n",
    "    new_feature = new_chunk[:-1].reshape(1, -1)\n",
    "    predicted_io_window = model_window.predict(new_feature)\n",
    "    print(f\"Predicted next IO (sliding-window approach) = {predicted_io_window[0]:.2f}\")\n"
   ]
  },
  {
   "cell_type": "code",
   "execution_count": 6,
   "metadata": {},
   "outputs": [
    {
     "name": "stdout",
     "output_type": "stream",
     "text": [
      "[Sliding Window] RandomForest RMSE: 17.33\n",
      "For CPU=10, predicted next IO (single-cpu approach) = 24.80\n"
     ]
    },
    {
     "name": "stderr",
     "output_type": "stream",
     "text": [
      "/Library/Frameworks/Python.framework/Versions/3.13/lib/python3.13/site-packages/sklearn/utils/validation.py:2739: UserWarning: X does not have valid feature names, but RandomForestRegressor was fitted with feature names\n",
      "  warnings.warn(\n"
     ]
    }
   ],
   "source": [
    "# ============================\n",
    "# 4) Single-CPU -> Next IO Approach\n",
    "# ============================\n",
    "X_single = df[['CPU_BURST']]  # single feature\n",
    "y_single = df['IO_BURST']     # next IO\n",
    "\n",
    "X1_train, X1_test, y1_train, y1_test = train_test_split(X_single, y_single,\n",
    "    test_size=0.2, random_state=42)\n",
    "\n",
    "model_single = RandomForestRegressor(n_estimators=100, random_state=42)\n",
    "model_single.fit(X1_train, y1_train)\n",
    "\n",
    "# y_pred_single = model_single.predict(X1_test)\n",
    "# rmse_single = mean_squared_error(y1_test, y_pred_single, squared=False)\n",
    "# print(f\"[Single CPU->IO] RandomForest RMSE: {rmse_single:.2f}\")\n",
    "\n",
    "import numpy as np\n",
    "from sklearn.metrics import mean_squared_error\n",
    "\n",
    "y_pred_window = model_window.predict(Xw_test)\n",
    "\n",
    "mse_window = mean_squared_error(yw_test, y_pred_window)  \n",
    "rmse_window = np.sqrt(mse_window)  # manually compute the root\n",
    "print(f\"[Sliding Window] RandomForest RMSE: {rmse_window:.2f}\")\n",
    "\n",
    "\n",
    "\n",
    "\n",
    "\n",
    "# Predict next IO for a brand-new CPU burst of, say, 10\n",
    "new_cpu_burst = np.array([[10.0]])\n",
    "predicted_io_single = model_single.predict(new_cpu_burst)\n",
    "print(f\"For CPU=10, predicted next IO (single-cpu approach) = {predicted_io_single[0]:.2f}\")"
   ]
  },
  {
   "cell_type": "markdown",
   "metadata": {},
   "source": [
    "# Simple one Cpu Burst to Predict the Next IO Burst"
   ]
  },
  {
   "cell_type": "code",
   "execution_count": 7,
   "metadata": {},
   "outputs": [],
   "source": [
    "# ============================\n",
    "# 5) Optional: Evaluate Multiple Models\n",
    "# ============================\n",
    "models = {\n",
    "    'Linear Regression': LinearRegression(),\n",
    "    'Ridge Regression': Ridge(alpha=1.0),\n",
    "    'Lasso Regression': Lasso(alpha=0.1),\n",
    "    'Elastic Net': ElasticNet(alpha=0.1, l1_ratio=0.5),\n",
    "    'SVR(rbf)': SVR(kernel='rbf'),\n",
    "    'DecisionTree': DecisionTreeRegressor(random_state=42),\n",
    "    'RandomForest': RandomForestRegressor(n_estimators=100, random_state=42),\n",
    "    'GradientBoosting': GradientBoostingRegressor(n_estimators=100, random_state=42)\n",
    "}"
   ]
  },
  {
   "cell_type": "code",
   "execution_count": 8,
   "metadata": {},
   "outputs": [
    {
     "name": "stdout",
     "output_type": "stream",
     "text": [
      "\n",
      "[Single-CPU->IO] Model Comparisons:\n",
      "  Linear Regression: RMSE = 21.58\n",
      "  Ridge Regression: RMSE = 21.58\n",
      "  Lasso Regression: RMSE = 21.58\n",
      "  Elastic Net: RMSE = 21.58\n",
      "  SVR(rbf): RMSE = 24.26\n",
      "  DecisionTree: RMSE = 23.34\n",
      "  RandomForest: RMSE = 22.81\n",
      "  GradientBoosting: RMSE = 23.02\n",
      "\n",
      "[Sliding Window] Model Comparisons:\n",
      "  Linear Regression: RMSE = 19.02\n",
      "  Ridge Regression: RMSE = 19.02\n",
      "  Lasso Regression: RMSE = 18.98\n",
      "  Elastic Net: RMSE = 19.00\n",
      "  SVR(rbf): RMSE = 17.25\n",
      "  DecisionTree: RMSE = 29.21\n",
      "  RandomForest: RMSE = 17.33\n",
      "  GradientBoosting: RMSE = 19.78\n"
     ]
    }
   ],
   "source": [
    "print(\"\\n[Single-CPU->IO] Model Comparisons:\")\n",
    "for name, model in models.items():\n",
    "    model.fit(X1_train, y1_train)\n",
    "    preds = model.predict(X1_test)\n",
    "    mse_val = mean_squared_error(y1_test, preds)\n",
    "    rmse_val = np.sqrt(mse_val)\n",
    "    print(f\"  {name}: RMSE = {rmse_val:.2f}\")\n",
    "\n",
    "print(\"\\n[Sliding Window] Model Comparisons:\")\n",
    "for name, model in models.items():\n",
    "    model.fit(Xw_train, yw_train)\n",
    "    preds = model.predict(Xw_test)\n",
    "    mse_val = mean_squared_error(yw_test, preds)\n",
    "    rmse_val = np.sqrt(mse_val)\n",
    "    print(f\"  {name}: RMSE = {rmse_val:.2f}\")\n"
   ]
  },
  {
   "cell_type": "markdown",
   "metadata": {},
   "source": [
    "# Graphs"
   ]
  },
  {
   "cell_type": "code",
   "execution_count": 9,
   "metadata": {},
   "outputs": [
    {
     "ename": "NameError",
     "evalue": "name 'y_pred' is not defined",
     "output_type": "error",
     "traceback": [
      "\u001b[31m---------------------------------------------------------------------------\u001b[39m",
      "\u001b[31mNameError\u001b[39m                                 Traceback (most recent call last)",
      "\u001b[36mCell\u001b[39m\u001b[36m \u001b[39m\u001b[32mIn[9]\u001b[39m\u001b[32m, line 5\u001b[39m\n\u001b[32m      3\u001b[39m \u001b[38;5;66;03m# Create a box plot of the predictions\u001b[39;00m\n\u001b[32m      4\u001b[39m plt.figure(figsize=(\u001b[32m10\u001b[39m, \u001b[32m6\u001b[39m))\n\u001b[32m----> \u001b[39m\u001b[32m5\u001b[39m plt.boxplot(\u001b[43my_pred\u001b[49m)\n\u001b[32m      6\u001b[39m plt.title(\u001b[33m'\u001b[39m\u001b[33mBox Plot of Predictions\u001b[39m\u001b[33m'\u001b[39m)\n\u001b[32m      7\u001b[39m plt.ylabel(\u001b[33m'\u001b[39m\u001b[33mPredicted IO_BURST\u001b[39m\u001b[33m'\u001b[39m)\n",
      "\u001b[31mNameError\u001b[39m: name 'y_pred' is not defined"
     ]
    },
    {
     "data": {
      "text/plain": [
       "<Figure size 1000x600 with 0 Axes>"
      ]
     },
     "metadata": {},
     "output_type": "display_data"
    }
   ],
   "source": [
    "import matplotlib.pyplot as plt\n",
    "\n",
    "# Create a box plot of the predictions\n",
    "plt.figure(figsize=(10, 6))\n",
    "plt.boxplot(y_pred)\n",
    "plt.title('Box Plot of Predictions')\n",
    "plt.ylabel('Predicted IO_BURST')\n",
    "plt.savefig('box_plot.png')\n",
    "plt.show()\n",
    "\n",
    "# Plot 1: Scatter plot with regression line\n",
    "plt.figure(figsize=(10, 6))\n",
    "plt.scatter(range(len(y_test)), y_test, color='blue', label='Actual values')\n",
    "plt.scatter(range(len(y_pred)), y_pred, color='red', label='Predicted values')\n",
    "plt.plot(range(len(y_pred)), y_pred, color='red', linestyle='--')\n",
    "plt.title('Scatter Plot with Regression Line')\n",
    "plt.xlabel('Instance')\n",
    "plt.ylabel('IO_BURST')\n",
    "plt.legend()\n",
    "plt.savefig('scatter_plot_with_regression_line.png')\n",
    "plt.show()\n",
    "\n",
    "\n",
    "\n",
    "# Plot 3: Prediction vs. Actual plot\n",
    "plt.figure(figsize=(10, 6))\n",
    "plt.scatter(y_test, y_pred, alpha=0.6)\n",
    "plt.xlabel(\"Actual IO_BURST\")\n",
    "plt.ylabel(\"Predicted IO_BURST\")\n",
    "plt.title(\"Actual vs. Predicted IO_BURST (Test Set)\")\n",
    "plt.savefig('prediction_vs_actual_plot.png')\n",
    "plt.grid(True)\n",
    "plt.plot([min(y_test), max(y_test)], [min(y_test), max(y_test)], color='red', linestyle='--')\n",
    "plt.tight_layout()\n",
    "plt.show()"
   ]
  }
 ],
 "metadata": {
  "kernelspec": {
   "display_name": "Python 3",
   "language": "python",
   "name": "python3"
  },
  "language_info": {
   "codemirror_mode": {
    "name": "ipython",
    "version": 3
   },
   "file_extension": ".py",
   "mimetype": "text/x-python",
   "name": "python",
   "nbconvert_exporter": "python",
   "pygments_lexer": "ipython3",
   "version": "3.13.2"
  },
  "orig_nbformat": 4
 },
 "nbformat": 4,
 "nbformat_minor": 2
}
